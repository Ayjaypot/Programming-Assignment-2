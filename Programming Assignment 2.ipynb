{
 "cells": [
  {
   "cell_type": "code",
   "execution_count": 8,
   "id": "cc09834c-b2e5-4fa0-a588-cc05f77bdfc6",
   "metadata": {},
   "outputs": [],
   "source": [
    "import numpy as np"
   ]
  },
  {
   "cell_type": "code",
   "execution_count": 16,
   "id": "4038fe2f-b650-47db-8fea-80543f3ee347",
   "metadata": {},
   "outputs": [
    {
     "data": {
      "text/plain": [
       "array([[-0.09814434, -0.73599938, -0.03854829,  0.82273792, -0.81491115],\n",
       "       [-1.44706373,  0.26093345, -1.63451809,  0.37310767,  1.01386027],\n",
       "       [ 0.84442519,  1.88489029, -1.63811263,  0.17276362,  0.00305595],\n",
       "       [ 0.19607858,  0.46116565, -1.07541033,  0.53120296, -0.69983345],\n",
       "       [ 1.38278712,  1.33192932,  1.18234735, -0.77452044, -1.50422349]])"
      ]
     },
     "execution_count": 16,
     "metadata": {},
     "output_type": "execute_result"
    }
   ],
   "source": [
    "# Problem 1 \n",
    "\n",
    "# initializing a random array as X\n",
    "X = np.random.random((5,5))\n",
    "\n",
    "# initializing the mean and getting the mean of the X array\n",
    "mean = X.mean()\n",
    "\n",
    "# # initializing the Standard Deviation and getting the STD of the X array\n",
    "std = X.std()\n",
    "\n",
    "# Normalizing the X array by using the formula\n",
    "Z = (X - mean)/std\n",
    "\n",
    "# Saving the normalized Array into X_normalized.npy\n",
    "np.save('X_normalized.npy', Z)\n",
    "\n",
    "# Printing and checking to see if the array is saved properly\n",
    "np.load('X_normalized.npy')"
   ]
  },
  {
   "cell_type": "code",
   "execution_count": 17,
   "id": "12b3e17b-312a-42cd-838e-74aea91fd39b",
   "metadata": {},
   "outputs": [
    {
     "data": {
      "text/plain": [
       "array([   9,   36,   81,  144,  225,  324,  441,  576,  729,  900, 1089,\n",
       "       1296, 1521, 1764, 2025, 2304, 2601, 2916, 3249, 3600, 3969, 4356,\n",
       "       4761, 5184, 5625, 6084, 6561, 7056, 7569, 8100, 8649, 9216, 9801])"
      ]
     },
     "execution_count": 17,
     "metadata": {},
     "output_type": "execute_result"
    }
   ],
   "source": [
    "# Problem 2\n",
    "\n",
    "# making the array of the first 100 positive integers\n",
    "range = np.arange(1,101)\n",
    "\n",
    "# Getting the square of those numbers\n",
    "Squared = range**2\n",
    "\n",
    "# Reshaping the array into a 10x10 array\n",
    "new = Squared.reshape(10,10)\n",
    "\n",
    "# Finding which elements of the array are divisible by 3\n",
    "divisible = new[new % 3 == 0]\n",
    "\n",
    "# Saving the elements divisible by 3 into div_by_3.npy\n",
    "np.save('div_by_3.npy', divisible)\n",
    "\n",
    "# Printing and checking to see if the array is saved properly\n",
    "np.load('div_by_3.npy')\n"
   ]
  },
  {
   "cell_type": "code",
   "execution_count": null,
   "id": "d2c01691-5e47-4eff-82b2-deb706e08640",
   "metadata": {},
   "outputs": [],
   "source": []
  }
 ],
 "metadata": {
  "kernelspec": {
   "display_name": "Python 3 (ipykernel)",
   "language": "python",
   "name": "python3"
  },
  "language_info": {
   "codemirror_mode": {
    "name": "ipython",
    "version": 3
   },
   "file_extension": ".py",
   "mimetype": "text/x-python",
   "name": "python",
   "nbconvert_exporter": "python",
   "pygments_lexer": "ipython3",
   "version": "3.12.4"
  }
 },
 "nbformat": 4,
 "nbformat_minor": 5
}
